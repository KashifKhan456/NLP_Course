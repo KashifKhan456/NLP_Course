{
  "nbformat": 4,
  "nbformat_minor": 0,
  "metadata": {
    "colab": {
      "provenance": [],
      "authorship_tag": "ABX9TyNdVVhKtGqlA10jecvlqWwX",
      "include_colab_link": true
    },
    "kernelspec": {
      "name": "python3",
      "display_name": "Python 3"
    },
    "language_info": {
      "name": "python"
    }
  },
  "cells": [
    {
      "cell_type": "markdown",
      "metadata": {
        "id": "view-in-github",
        "colab_type": "text"
      },
      "source": [
        "<a href=\"https://colab.research.google.com/github/KashifKhan456/Regexes_In_NLP/blob/main/Regexes.ipynb\" target=\"_parent\"><img src=\"https://colab.research.google.com/assets/colab-badge.svg\" alt=\"Open In Colab\"/></a>"
      ]
    },
    {
      "cell_type": "code",
      "execution_count": 4,
      "metadata": {
        "id": "yAbasEz8nofN"
      },
      "outputs": [],
      "source": [
        "import re"
      ]
    },
    {
      "cell_type": "code",
      "source": [
        "text1 = \"Hello my phone number is 03333333333 0333-3333333\"\n",
        "text2 = \"My gmail is abc@gmail.com\"\n",
        "text3 = \"abc.tech.317@gmail.com\"\n",
        "text4 = \"abc456_+-123.tech.Khan@gmail123.com\"\n",
        "text5 = \"My registration number is 20mdswe112\"\n",
        "text6 = \"https://www.example.com/path\"\n",
        "text7 = \"someone mentioned me in facebook comment i want to remove the @kashifMauri123\""
      ],
      "metadata": {
        "id": "q0DMUtbhn7-8"
      },
      "execution_count": 189,
      "outputs": []
    },
    {
      "cell_type": "code",
      "source": [
        "pattern1 = '\\d{11}'\n",
        "pattern2 = '[a-zA-Z0-9]+@[a-zA-Z]+\\.[a-zA-Z]+'\n",
        "pattern3 = '[a-zA-Z0-9.]+@[a-zA-Z0-9.]+'\n",
        "pattern4 = '[a-zA-Z0-9._%+-]+@[a-zA-Z0-9.-]+\\.[a-zA-Z]{2,}'\n",
        "pattern5 = '[0-9]+[a-zA-Z0-9]*[0-9]{1,}'\n",
        "pattern6 = 'https?://\\S+'\n",
        "pattern7 = 'https?://+[a-zA-Z0-9.+?_-]*/\\w*'\n",
        "pattern8 = '@[a-zA-Z0-9._]+\\d*'\n",
        "pattern9 = '\\d{4}-\\d{7}'"
      ],
      "metadata": {
        "id": "MleRGe_uupxT"
      },
      "execution_count": 190,
      "outputs": []
    },
    {
      "cell_type": "code",
      "source": [
        "result_value = re.findall(pattern9,text1)"
      ],
      "metadata": {
        "id": "4aYKU6zNpcZH"
      },
      "execution_count": 191,
      "outputs": []
    },
    {
      "cell_type": "code",
      "source": [
        "subtracted_text = re.sub(pattern9,'',text1)"
      ],
      "metadata": {
        "id": "rjJhzbM4E-fK"
      },
      "execution_count": 187,
      "outputs": []
    },
    {
      "cell_type": "code",
      "source": [
        "print(subtracted_text)"
      ],
      "metadata": {
        "colab": {
          "base_uri": "https://localhost:8080/"
        },
        "id": "ljUTmyU6Fint",
        "outputId": "6bf85fec-8fc5-4dd5-f31b-eac69eed719b"
      },
      "execution_count": 188,
      "outputs": [
        {
          "output_type": "stream",
          "name": "stdout",
          "text": [
            "Hello my phone number is 03172296768 \n"
          ]
        }
      ]
    },
    {
      "cell_type": "code",
      "source": [
        "print(result_value)"
      ],
      "metadata": {
        "colab": {
          "base_uri": "https://localhost:8080/"
        },
        "id": "Kv2a_EOYqT-e",
        "outputId": "afca9fff-85e3-4a26-c370-7fa68c979902"
      },
      "execution_count": 192,
      "outputs": [
        {
          "output_type": "stream",
          "name": "stdout",
          "text": [
            "['0333-3333333']\n"
          ]
        }
      ]
    }
  ]
}